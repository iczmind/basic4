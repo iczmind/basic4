{
 "cells": [
  {
   "cell_type": "markdown",
   "metadata": {},
   "source": [
    "<figure>\n",
    "  <IMG SRC=\"https://raw.githubusercontent.com/mbakker7/exploratory_computing_with_python/master/tudelft_logo.png\" WIDTH=250 ALIGN=\"right\">\n",
    "</figure>\n",
    "\n",
    "# Metode Komputasi Eksplorasi menggunakan Python\n",
    "*Oleh Mark Bakker*"
   ]
  },
  {
   "cell_type": "markdown",
   "metadata": {},
   "source": [
    "## Notebook 4: Fungsi\n",
    "###Sedikit Lebih Jauh Mengenai Fungsi\n",
    "\n",
    "Paket adalah sebuah set dari fungsi-fungsi Python. Saat kita hendak menggunakan fungsi-fungsi tersebut, kita harus mengimpornya dari paket. Terdapat banyak cara berbeda untuk mengimpor paket-paket tersebut. Penulisan paling dasar adalah:\n",
    "\n",
    "`import numpy`\n",
    "\n",
    "Yang setelahnya semua fungsi dalam `numpy` dapat disebut `numpy.function()`. Jika Anda tidak menyukai nama paketnya, contohnya karena nama tersebut terlalu panjang, Anda dapat menggantinya langsung. Kita telah melakukan perubahan nama tersebut dengan mengganti `numpy` menjadi `np`, yang cukup dikenal dalam komputasi eksplorasi. Setelah `import numpy as np`, semua fungsi dalam `numpy` dapat disebut dengan `np.function()`. \n",
    "\n",
    "Paket juga dapat mempunyai subpaket-subpaket. Sebagai contoh, paket `numpy` mendapat subpaket yang disebut `random`, yang mempunyai berbagai fungsi untuk variabel acak (random). Jika paket `numpy` diimpor dengan perintah `import numpy as np`, fungsi-fungsi dalam subpaket `random` dapat disebut `np.random.function()`. \n",
    "\n",
    "Jika Anda hanya memerlukan sebuah fungsi yang spesifik, Anda tidak perlu mengimpor seluruh paket. Sebagai contoh, jika Anda hanya ingin menggunakan fungsi cosinus dari paket `numpy`, Anda dapat mengimpornya dengan nama `from numpy import cos`, dan setelahnya Anda dapat menggunakan fungsi cosinus tersebut dengan menyebutnya `cos()`. Untuk membuatnya semakin heboh, Anda bahkan dapat mengganti nama fungsi tersebut. Sebagai contoh, `from numpy import cos as newname`, yang setelahnya dapat Anda panggil dengan fungsi `newname()` untuk menghitung cosinus. \n",
    "\n",
    "Dalam *notebook-notebook* sebelumnya, kita selalu mengimpor `numpy` dan menyebutnya `np`, lalu kita mengimpor bagian yang akan diplot dari `matplotlib` dan menyebutnya `plt`. Keduanya merupakan nama-nama standar dalam komunitas Python. Pernyataan ketiga yang kita tambahkan adalah `%matplotlib inline`. Perintah terakhir ini adalah perintah dari IPython dan bukan dari Python itu sendiri. Perintah tersebut hanya akan berfungsi di IPython dan disebut perintah ajaib. Semua perintah ajaib dimulai dengan simbol `%`. Pernyataan `%matplotlib inline` menggabungkan seluruh figur dalam Notebook, dan bukan dalam area/*window* yang berbeda-beda. puts all figures in the Notebook rather than in separate windows. \n",
    "\n",
    "Kita sudahi semua tentang paket saat ini. Mari kita mulai dengan cara kita biasa memulainya."
   ]
  },
  {
   "cell_type": "code",
   "execution_count": "",
   "metadata": {
    "collapsed": false
   },
   "outputs": [],
   "source": [
    "import matplotlib.pyplot as plt\n",
    "import numpy as np\n",
    "%matplotlib inline"
   ]
  },
  {
   "cell_type": "markdown",
   "metadata": {},
   "source": [
    "### Fungsi\n",
    "Fungsi-fungsi adalah bagian yang sangat penting dalam bahasa pemrograman. Anda sudah menggunakan berbagai macam fungsi sampai saat ini, seperti `plot` atau `array`. Namun, Anda juga dapat mendefinisikan fungsi yang diciptakan Anda sendiri.\n",
    "Untuk mendefinisikan fungsi yang baru, gunakan perintah `def`. Setelah `def` diikuti dengan nama fungsinya, kemudian di antara tanda kurung terdapat argumen-argumen fungsi tersebut, dan diakhiri dengan tanda titik dua. Setelah tanda titik dua Anda memasukkan namanya sampai selesai. Kalimat terakhir dari fungsi tersebut haruslah `return`, diikuti dengan apa yang Anda inginkan untuk kembali. Sebagai contoh, pertimbangkanlah fungsi berikut ini dari $x$:\n",
    "\n",
    "$f(x)= \\cos(x) \\qquad x <0$\n",
    "\n",
    "$f(x) = \\exp(-x) \\qquad x \\ge 0$\n",
    "\n",
    "Mari kita implementasikan $f(x)$ dalam sebuah fungsi bernama `func`. Hanya ada satu argumen input `x`. "
   ]
  },
  {
   "cell_type": "code",
   "execution_count": "",
   "metadata": {
    "collapsed": false
   },
   "outputs": [],
   "source": [
    "def func(x):\n",
    "    if x < 0:\n",
    "        f = np.cos(x)\n",
    "    else:\n",
    "        f = np.exp(-x)\n",
    "    return f\n",
    "print(func(3))"
   ]
  },
  {
   "cell_type": "markdown",
   "metadata": {},
   "source": [
    "Sekali Anda mendefinisikan sebuah fungsi dalam Python, Anda dapat menyebutkannya di manapun yang Anda mau selama sesi berlangsung. Sehingga, kita dapat memanggil kembali fungsi tersebut."
   ]
  },
  {
   "cell_type": "code",
   "execution_count": "",
   "metadata": {
    "collapsed": false
   },
   "outputs": [],
   "source": [
    "print(func(-2))"
   ]
  },
  {
   "cell_type": "markdown",
   "metadata": {},
   "source": [
    "Perhatikanlah bahwa sekali Anda mendefinisikan sesuatu, dengan mengetik\n",
    "\n",
    "`func(` \n",
    "\n",
    "dan menunggu sesaat, akan memberikan Anda argumen-argumen input fungsi tersebut dengan munculnya sebuah *window* kecil. Hal ini tidaklah terlalu menarik untuk kasus ini, karena argumen input hanyalah x, namun akan sangat bermanfaat ketika terdapat argumen input yang majemuk. Anda juga dapat memberikan dokumentasi tambahan dari fungsi Anda. Taruhlah dokumentasi tersebut di atas blok yang bertakuk dan di antara kutip tiga. Setelah Anda memroses fungsi di bawah ini, fungsi tersebut sudah terdefinisikan, jadi dalam sel kode di bawah ini Anda dapat mengetik `func(` dan lihatlah dokumentasi yang baru saja Anda sediakan."
   ]
  },
  {
   "cell_type": "code",
   "execution_count": "",
   "metadata": {
    "collapsed": false
   },
   "outputs": [],
   "source": [
    "def func(x):\n",
    "    '''Fungsi Python Pertama\n",
    "    dditulis oleh Mahasiswa X'''\n",
    "    if x < 0:\n",
    "        f = np.cos(x)\n",
    "    else:\n",
    "        f = np.exp(-x)\n",
    "    return f"
   ]
  },
  {
   "cell_type": "code",
   "execution_count": "",
   "metadata": {
    "collapsed": false
   },
   "outputs": [],
   "source": []
  },
  {
   "cell_type": "markdown",
   "metadata": {},
   "source": [
    "Nama-nama argumen dari sebuah fungsi adalah nama-nama yang digunakan di dalam fungsi tersebut juga. Nama-nama tersebut tidak mempunyai hubungan dengan nama-nama di luar fungsi tersebut. Dalam menggunakan sebuah variabel sebagai argumen dari sebuah fungsi, hanya *nilai-nilai* argumen tersebut yang dapat diloloskan untuk fungsi yang bersangkutan. Pada contoh di bawah ini, *nilai* `y` sudah diberikan lagi sebagai argumen pertama dari fungsi `func`. Di dalam fungsi tersebut, nilai ini digunakan untuk variabel `x`."
   ]
  },
  {
   "cell_type": "code",
   "execution_count": "",
   "metadata": {
    "collapsed": false
   },
   "outputs": [],
   "source": [
    "y = 2\n",
    "print('func(2):',func(y))"
   ]
  },
  {
   "cell_type": "markdown",
   "metadata": {},
   "source": [
    "###Latihan 1. <a name=\"back1\"></a>Fungsi Pertama\n",
    "Tulislah fungsi Python untuk fungsi di bawah ini:\n",
    "\n",
    "$f(x)=e^{-\\alpha x}\\cos(x)$\n",
    "\n",
    "Fungsi tersebut harus mengambil `x` dan `alpha` sebagai argumen input dan mengembalikan nilai fungsi. Berilah nama unik pada fungsi Anda (jika Anda menamakannya `func` saja, fungsi tersebut akan tertimpa fungsi `func` yang telah kita definisikan di atas). Buatlah grafik `f` vs. `x` untuk `x` dimulai dari  0 sampai dengan $10\\pi$ menggunakan dua nilai yang berbeda dari `alpha`: 0.1 dan 0.2. Tambahkan legenda dan berilah label pada sumbu-sumbunya."
   ]
  },
  {
   "cell_type": "code",
   "execution_count": "",
   "metadata": {
    "collapsed": false
   },
   "outputs": [],
   "source": []
  },
  {
   "cell_type": "markdown",
   "metadata": {},
   "source": [
    "<a href=\"#ex1answer\">Kunci Jawaban Latihan 1</a>"
   ]
  },
  {
   "cell_type": "markdown",
   "metadata": {},
   "source": [
    "###Argumen Kata Kunci\n",
    "\n",
    "Setiap fungsi dapat memiliki argumen input majemuk yang diikuti oleh argumen-argumen kata kunci. Argumen-argument tersebut *harus* dimasukkan dan cara memasukkannya harus berurutan sesuai dengan yang telah didefinisikan sebelumnya. Argumen-argumen kata kunci tidak perlu dimasukkan; saat argumen tersebut tidak dimasukkan, nilai asli (*default*) yang dipergunakan. Agumen kata kunci dapat dituliskan dalam urutan manapun selama mereka berasal dari argumen-argumen biasa. Jika Anda me\n",
    "Functions may have multiple input arguments followed by keyword arguments. Arguments *must* be entered and must be entered in the order defined. Keyword arguments don't need to be entered. When they are not entered, the default value is used. Keyword arguments may be given in any order as long as they come after the regular arguments. If you specify the keyword arguments in the order they are defined in the argument list, you don't even need to preceed them with the keyword, but it is saver to write the keywords out and it makes your code more readable. For example, the function $f(x)=A\\cos(\\pi x+\\theta)$ can be written with keyword arguments for $A$ and $n$ as follows."
   ]
  },
  {
   "cell_type": "code",
   "execution_count": "",
   "metadata": {
    "collapsed": false
   },
   "outputs": [],
   "source": [
    "def testfunc(x,A=1,theta=0):\n",
    "    return A * np.cos(np.pi*x+theta)\n",
    "print(testfunc(1))  # gunakan nilai asli A=1,theta=0: cos(pi)\n",
    "print(testfunc(1,A=2))  # Sekarang gunakan A=2, dan theta masih 0: 2*cos(pi)\n",
    "print(testfunc(1,A=2,theta=np.pi/4))  # Sekarang gunakan A=2, theta=pi/4: 2*cos(5pi/4) \n",
    "print(testfunc(1,theta=np.pi/4,A=2))  # Sama dengan atas: 2*cos(5pi/4)\n",
    "print(testfunc(1,theta=np.pi/4))  # Sekarang gunakan theta=pi/4, dan A masih 1: cos(5pi/4)"
   ]
  },
  {
   "cell_type": "markdown",
   "metadata": {},
   "source": [
    "###Variabel-variabel Lokal\n",
    "\n",
    "Variabel-variabel yang dinyatakan dalam fungsi hanya dapat digunakan di dalam fungsi itu sendiri. Bagian di luar fungsi tersebut tidak mengetahui apapun mengenai variabel-variabel yang digunakan di dalam fungsi, kecuali untuk variabel yang dikembalikan nilainya oleh fungsi tersebut. Dalam kode di bawah ini, cobalah menghapus `#` sebelum `print a` dan Anda akan mendapatkan pernyataan error, karena `a` hanya berfungsi sebagai variabel lokal di dalam fungsi `localtest` (dengan demikian, masukkan `#` kembali seperti semula, jika tidak Andda tidak akan dapat memroses seluruh Notebook Anda lagi dengan sel $\\to$ Run All menu command)."
   ]
  },
  {
   "cell_type": "code",
   "execution_count": null,
   "metadata": {
    "collapsed": true
   },
   "outputs": [],
   "source": []
  },
  {
   "cell_type": "code",
   "execution_count": "",
   "metadata": {
    "collapsed": false
   },
   "outputs": [],
   "source": [
    "def localtest(x):\n",
    "    a = 3\n",
    "    b = 5\n",
    "    return a*x + b\n",
    "print(localtest(4))\n",
    "# print a  # akan menyebabkan error, karena 'a' tidak diketahui di luar fungsi tempatnya berada"
   ]
  },
  {
   "cell_type": "markdown",
   "metadata": {},
   "source": [
    "###Tiga Tipe Variabel di dalam Sebuah Fungsi\n",
    "\n",
    "Ada tiga tipe variable di dalam sebuah fungsi. Kita sudah belajar dua di antaranya; variabel yang diteruskan kepada fungsi melalui daftar/list argumen, seperti `x` dalam fungsi di atas, dan variabel lokal, seperti `a` dan `b` dalam fungsi di atas. Jenis ketiga adalah variabel yang didefinisikan di luar fungsi tetapi tidak diteruskan kepada fungsi tersebut melalui list argumen. Ketika sebuah variabel digunakan di dalam fungsi Python, Python akan mengecek lebih dahulu apakah variabel tersebut sudah didefinisikan secara lokal. Jika tidak, Python akan mengecek apakah variabel tersebut sudah diteruskan kepaa fungsinya melalui list argumen. Dan jika bukan itu permasalahannya, Python akan mengecek kembali apakah variabel tersebut didefinisikan di luar fungsi, dari tempat di mana fungsi tersebut dipanggil. Apabila bukan itu juga kasusnya, Python akan mengeluarkan pesan *error*. Aktivitas pemrograman akan dianggap baik jika setiap variabelnya dapat diteruskan kepada fungsi saat variabel tersebut diperlukan di dalam fungsinya, daripada mengandalkan Python untuk menemukan variabel di luar fungsi tersebut; hal ini juga dapat memperkecil *error* pada pemrograman.\n",
    "\n",
    "Namun demikian, perlu diingat bahwa ketika sebuah variabel didefinisikan secara lokal, Python tidak akan mengecek apakah variabel tersebut juga didefinisikan di luar fungsinya. Python akan dengan senang hati membentuk variabel baru dengan nama yang sama di dalam fungsinya. Sangat penting untuk terus mengingat perbedaan dari ketiga jenis variabel ini, jadi marilah kita mengerjakan beberapa contoh soal."
   ]
  },
  {
   "cell_type": "code",
   "execution_count": "",
   "metadata": {
    "collapsed": false
   },
   "outputs": [],
   "source": [
    "def test1(x):\n",
    "    a = 3\n",
    "    b = 5\n",
    "    return a*x + b\n",
    "print(test1(4))\n",
    "\n",
    "a = 3\n",
    "def test2(x):\n",
    "    b = 5\n",
    "    return a*x + b\n",
    "print(test2(4))  # Dapat dilakukan juga, karena 'a' didefinisikan di luar test2"
   ]
  },
  {
   "cell_type": "markdown",
   "metadata": {},
   "source": [
    "Dalam fungsi berikut ini, kita mendefinisikan variabel `var1` di luar fungsi `test3`. Fungsi `test3` tidak mengambil argumen input manapun (namun masih memerlukan tanda kurung, jika tidak Python tidak akan mengerti kalau itu adalah sebuah fungsi!), tetapi fungsi tersebut juga membentuk variabel lokal `var1`. Variabel lokal `var1` ini hanya dapat diketahui dari dalam fungsi `test3` dan tidak mempengaruhi nilai `var1` yang berada di luar fungsi `test3`."
   ]
  },
  {
   "cell_type": "code",
   "execution_count": "",
   "metadata": {
    "collapsed": false
   },
   "outputs": [],
   "source": [
    "var1 = 8\n",
    "def test3():\n",
    "    var1 = 4\n",
    "    print('Selamat pagi, var1 sama dengan',var1)\n",
    "test3()\n",
    "print('nilai var1 di luar test3:',var1)"
   ]
  },
  {
   "cell_type": "markdown",
   "metadata": {},
   "source": [
    "###Fungsi adalah Blok Pembangun yang Memerlukan Pengujian Terpisah\n",
    "\n",
    "Fungsi adalah blok pembangun dari kode komputer. Setiap fungsi merepresentasikan fungsionalitasnya sendiri yang didefinisikan secara tepat, yang berarti setiap fungsi dapat *dan harus* diuji secara terpisah. Jadi, biasakanlah menguji apakah fungsi Anda mengerjakan apa yang Anda maksudkan. Terkadang mudah saja untuk menguji sebuah fungsi, sebagai contoh: Anda dapat membandingkannya dengan nilai hasil perhitungan manual. Terkadang pengujian juga dapat menjadi lebih sulit, dan Anda perlu menulis kode-kode tambahan untuk menguji fungsi tersebut. Hal tersebut selalu bermanfaat untuk dilakukan. Jika Anda menguji fungsi Anda dengan baik, Anda akan sangat terbantu saat sedang memperbaiki kesalahan-kesalahan yang mungkin terjadi pada kode Anda (*debugging*), karena Anda sudah tahu *error* yang terjadi bukan di dalam fungsi tersebut."
   ]
  },
  {
   "cell_type": "markdown",
   "metadata": {},
   "source": [
    "###Latihan 2, <a name=\"back2\"></a>Fungsi Aliran untuk Arus di Sekeliling Tabung/Silinder\n",
    "\n",
    "Tinjaulah sebuah aliran fluida dua dimensi *inviscid* (viskositas mendekati nol) di sekeliling sisi tabung.\n",
    "Pusat sumbu koordinat sistem tersebut terletak pada titik tengah tabung.\n",
    "Fungsi aliran adalah fungsi yang konstan seiring dengan jalannya aliran.\n",
    "Fungsi aliran $\\psi$ adalah fungsi dari koordinat polar $r$ dan $\\theta$. Fungsi aliran bersifat konstan dan bernilai sama dengan nol pada sisi tabung, serta tidak terlalu kelihatan di dalam tabung tersebut, jadi marilah kita menganggap nilainya sama dengan nol pada posisi itu, sesuai dengan nilai pada sisi tabung.\n",
    "\n",
    "$\\begin{split}\n",
    "\\psi &= 0 \\qquad r\\le R \\\\\n",
    "\\psi &= U(r-R^2/r)\\sin(\\theta) \\qquad r\\ge R\n",
    "\\end{split}$\n",
    "\n",
    "di mana $U$ adalah aliran dalam sumbu-$x$, $r$ adalah jarak radial dari pusat tabung, $\\theta$ adalah sudut aliran, dan $R$ adalah jari-jari tabung. Anda perlu mengingat bahwa tidak selamanya mudah menghitung besar sudut yang tepat dari nilai $x$ dan $y$, karena fungsi arctan yang umum mengembalikan nilai di antara $-\\pi/2$ dan $+\\pi/2$ (radian), sedangkan jika $x=-2$ dan $y=2$, sudutnya harus sebesar $3\\pi/4$.\n",
    "`numpy` memiliki fungsi yang sangat baik untuk menghitung sudut yang tepat di antara $-\\pi$ dan $+\\pi$ dalam koordinat $x$ dan $y$. Fungsi tersebut adalah `arctan2(y,x)`. Ingatlah bahwa fungsi tersebut mengambil argumen *pertama* `y` dan argumen *kedua* `x`.\n",
    "\n",
    "Tulislah sebuah fungsi yang dapat menghitung fungsi aliran untuk arus di sekeliling sebuah silinder. Fungsi tersebut harus mengambil dua argumen, `x` dan `y`, dan dua argumen kata kunci, `U` dan `R`, dan harus mengembalikan nilai dari fungsi aliran itu. Jika Anda menuliskan fungsi tersebut dengan tepat, Anda akan mendapatkan `psi(2, 4, U=1.0, R=1.0) = 3.8`, dan `psi(0.5, 0, U=1.0, R=1.0) = 0` (di dalam tabung)."
   ]
  },
  {
   "cell_type": "code",
   "execution_count": "",
   "metadata": {
    "collapsed": false
   },
   "outputs": [],
   "source": []
  },
  {
   "cell_type": "markdown",
   "metadata": {},
   "source": [
    "<a href=\"#ex2answer\">Kunci Jawaban Latihan 2</a>"
   ]
  },
  {
   "cell_type": "markdown",
   "metadata": {},
   "source": [
    "###Vektorisasi Fungsi\n",
    "\n",
    "Tidak semua fungsi dapat dipanggil dengan sebuah array berisikan nilai-nilai sebagai argumen input. Sebagai contoh, fungsi `func` yang didefinisikan di awal *notebook* ini tidak dapat dijalankan bersama array dengan nilai-nilai  `x`. Cobalah soal di bawah ini:"
   ]
  },
  {
   "cell_type": "code",
   "execution_count": "",
   "metadata": {
    "collapsed": false
   },
   "outputs": [],
   "source": [
    "def func(x):\n",
    "    if x < 0:\n",
    "        f = np.cos(x)\n",
    "    else:\n",
    "        f = np.exp(-x)\n",
    "    return f\n",
    "x = np.linspace(-6,6,100)\n",
    "#y = func(x) # Jalankan kode ini setelah menghilangkan tanda # untuk melihat error yang terjadi. Lalu, taruhlah tanda # kembali seperti semula"
   ]
  },
  {
   "cell_type": "markdown",
   "metadata": {},
   "source": [
    "Alasan mengapa kode tersebut tidak dapat dijalankan adalah karena Python tidak mengetahui apa yang harus dilakukan dengan kalimat:\n",
    "\n",
    "`if x < 0` \n",
    "\n",
    "di mana `x` terdiri dari banyak nilai. Oleh karena itu, pesan *error* yang diterima adalah:\n",
    "\n",
    "`The truth value of an array with more than one element is ambiguous` \n",
    "\n",
    "Untuk beberapa nilai `x` pernyataan `if` dapat menjadi benar atau `True`, dan untuk nilai-nilai yang lain dapat menjadi salah atau `False`. Salah satu cara sederhana menyiasati problem tersebut adalah melalui vektorisasi fungsi. Hal ini berarti kita membuat sebuah fungsi baru, sebut saja `funcvec`, yang merupakan bentuk fungsi verktorisasi dari `func` dan dapat dipanggil dengan sebuah array sebagai argumen (cara tersebut sampai saat ini merupakan cara yang termudah tetapi bukan yang tercepat secara komputasional untuk meyakinkan bahwa sebuah fungsi dapat dipanggil oleh array sebagai sebuah argumen)."
   ]
  },
  {
   "cell_type": "code",
   "execution_count": "",
   "metadata": {
    "collapsed": false
   },
   "outputs": [],
   "source": [
    "funcvec = np.vectorize(func)\n",
    "x = np.linspace(-6,6,100)\n",
    "y = funcvec(x)\n",
    "plt.plot(x,y)"
   ]
  },
  {
   "cell_type": "markdown",
   "metadata": {},
   "source": [
    "Sekarang marilah kembali kepada persoalan aliran di sekeliling tabung. Kontur dari fungsi aliran merepresentasikan jalannya aliran di sekeliling tabung. Untuk membuat plot kontur, fungsi yang akan dibuat konturnya perlu dievaluasi dalam grid poin. Grid poin dan sebuah array dengan nilai-nilai dari fungsi aliran pada poin-poin tersebut dapat diteruskan kepada rutinitas kontur untuk membuat plot kontur. Untuk membuat grid poin, gunakanlah fungsi `meshgrid` yang mengambil input dari lingkup antara nilai-nilai `x` dan  nilai-nilai `y`, serta mengembalikan grid dengan nilai-nilai `x` dan grid lain dengan nilai-nilai `y`. Sebagai contoh, untuk mempunyai 5 poin dalam sumbu-x dari -1 sampai dengan +1, dan 3 poin dalam sumbu-y dari 0 sampai dengan 10:"
   ]
  },
  {
   "cell_type": "code",
   "execution_count": "",
   "metadata": {
    "collapsed": false
   },
   "outputs": [],
   "source": [
    "x,y = np.meshgrid( np.linspace(-1,1,5), np.linspace(0,10,3) ) \n",
    "print('nilai-nilai x')\n",
    "print(x)\n",
    "print('nilai-nilai y')\n",
    "print(y)"
   ]
  },
  {
   "cell_type": "markdown",
   "metadata": {},
   "source": [
    "###Latihan 3, <a name=\"back3\"></a>Plot kontur untuk aliran di sekeliling tabung\n",
    "\n",
    "Buatlah evaluasi fungsi aliran di sekeliling tabung dengan radius 1.0 pada grid 100 dari 100 poin, di mana `x` bervariasi dari -3 sampai dengan +3, dan `y` dari -2 sampai dengan 2. Buatlah evalusi fungsi aliran pada seluruh grid (Anda perlu membuat versi tervektorisasi dari fungsi yang Anda tuliskan untuk menghitung fungsi aliran). Lalu, gunakan fungsi `np.contour` untuk membuat plot kontur (`help(np.contour)` atau galeri matplotlib). Anda perlu menggunakan perintah `plt.axis('equal')`, sehingga besar ukuran sepanjang sumbu-sumbunya selalu sama dan bentuk lingkaran dari tabungnya terlihat benar-benar serupa lingkaran, bukan elips. Terakhir, Anda mungkin saja ingin menambahkan sepetak area melingkar dengan menggunakan perintah `fill` dan menentukan sekumpulan nilai $x$ dan $y$ di sekeliling tabung."
   ]
  },
  {
   "cell_type": "code",
   "execution_count": "",
   "metadata": {
    "collapsed": false
   },
   "outputs": [],
   "source": []
  },
  {
   "cell_type": "markdown",
   "metadata": {},
   "source": [
    "<a href=\"#ex3answer\">Kunci Jawaban Latihan 3</a>"
   ]
  },
  {
   "cell_type": "markdown",
   "metadata": {},
   "source": [
    "###Mengembalikan berbagai jenis *benda*\n",
    "\n",
    "Sebuah tugas dapat menetapkan nilai-nilai dari berbagai jenis variabel dalam satu pernyataan dengan menggunakan penulisan/*syntax* sebagai berikut:"
   ]
  },
  {
   "cell_type": "code",
   "execution_count": "",
   "metadata": {
    "collapsed": false
   },
   "outputs": [],
   "source": [
    "a,b = 4,3\n",
    "print('a:',a)\n",
    "print('b:',b)\n",
    "a,b,c = 27,np.arange(4),'halo'\n",
    "print('a:',a)\n",
    "print('b:',b)\n",
    "print('c:',c)"
   ]
  },
  {
   "cell_type": "markdown",
   "metadata": {},
   "source": [
    "Demikian pula, sebuah fungsi dapat mengembalikan sebuah nilai atau sebuah array, atau beberapa nilai, beraneka ragam array, atau apapun yang seorang *programmer* tentukan untuk pengembalian nilai (termasuk tidak melakukan apa-apa, tentu saja). Saat berbagai jenis *benda* sudah dikembalikan, *benda-benda* tersebut dapat disimpan dalam variabel-variabel individual secara langsung (Anda pernah menggunakan penulisan ini dengan fungsi `meshgrid`)."
   ]
  },
  {
   "cell_type": "code",
   "execution_count": "",
   "metadata": {
    "collapsed": false
   },
   "outputs": [],
   "source": [
    "def newfunc():\n",
    "    dump = 4 * np.ones(5)\n",
    "    dump[0] = 100\n",
    "    return 33,dump,'hasil pemrosesan ini hebat!'\n",
    "test = newfunc()\n",
    "print(type(test))\n",
    "print(test[1]) \n",
    "a,b,c = newfunc()\n",
    "print('a:',a)\n",
    "print('b:',b)\n",
    "print('c:',c)"
   ]
  },
  {
   "cell_type": "markdown",
   "metadata": {},
   "source": [
    "###Latihan 4, <a name=\"back4\"></a>Plot Aliran di sekeliling tabung\n",
    "\n",
    "Komponen radial dan tangensial dari kecepatan vektor $\\vec{v}=(v_r,v_\\theta)$ untuk aliran fluida *inviscid* di sekeliling tabung dinyatakan dengan:\n",
    "\n",
    "$\\begin{split}\n",
    "v_r&=U(1-R^2/r^2)\\cos(\\theta) \\qquad r\\ge R \\\\\n",
    "v_\\theta&=-U(1+R^2/r^2)\\sin(\\theta) \\qquad r\\ge R\n",
    "\\end{split}$\n",
    "\n",
    "dan sama dengan nol untuk sisi lainnya. Komponen-komponen $x$ dan $y$ dari kecepatan vektor mungkin dapat diperoleh dari komponen radial dan tangensial seperti:\n",
    "\n",
    "$\\begin{split}\n",
    "v_x&=v_r\\cos(\\theta) - v_\\theta\\sin(\\theta) \\\\\n",
    "v_y &= v_r\\sin(\\theta) + v_\\theta\\cos(\\theta) \n",
    "\\end{split}$\n",
    "\n",
    "Tuliskanlah sebuah fungsi yang dapat mengembalikan komponen-komponen $x$ dan $y$ dari kecepatan vektor untuk aliran fluida di sekeliling tabung. Ujilah fungsi Anda dengan cara mengecek bahwa pada saat $(x,y)=(2,3)$ kecepatan vektor adalah $(v_x,v_y)=(1.0296,-0.0710)$.\n",
    "Hitunglah komponen-komponen $x$ dan $y$ dari kecepatan vektor (vektorisasi tidak akan menolong pada persoalan ini, karena fungsi Anda akan mengembalikan dua nilai, jadi Anda memerlukan loop ganda) pada grid 50 dengan 50 poin di mana `x` bervariasi dari -3 sampai dengan +3, dan `y` dari -2 sampai dengan 2. Gunakan $U=1$ dan $R=1$. Buatlah plot aliran menggunakan fungsi `streamplot`, yang mengambil empat argumen: `x`, `y`, `vx`, `vy` (gunakan `help(np.streamplot)`)."
   ]
  },
  {
   "cell_type": "code",
   "execution_count": "",
   "metadata": {
    "collapsed": false
   },
   "outputs": [],
   "source": []
  },
  {
   "cell_type": "markdown",
   "metadata": {},
   "source": [
    "<a href=\"#ex4answer\">Kunci Jawaban Latihan 4</a>"
   ]
  },
  {
   "cell_type": "markdown",
   "metadata": {},
   "source": [
    "###Latihan 5, <a name=\"back5\"></a>Turunan Fungsi\n",
    "\n",
    "Fungsi `func`, yang kita tuliskan sebelumnya dalam *notebook* ini, menjalankan fungsi sebagai berikut:\n",
    "\n",
    "$f(x)= \\cos(x) \\qquad x <0$\n",
    "\n",
    "$f(x) = \\exp(-x) \\qquad x \\ge 0$\n",
    "\n",
    "Turunkanlah dalam ekspresi analitis (perhitungan manual/tangan) untuk turunan pertama dari $f(x)$ dan implementasikanlah ke dalam fungsi Python. Ujilah fungsi Anda dengan cara membandingkan hasilnya dengan metode turunan numerik menggunakan skema perbedaan pusat\n",
    "\n",
    "$\\frac{\\text{d}f}{\\text{d}x}\\approx \\frac{f(x+d)-f(x-d)}{2d}$\n",
    "\n",
    "di mana $d$ adalah angka yang bernilai kecil. Ujilah fungsi Anda masing-masing untuk $x<0$ dan $x>0$."
   ]
  },
  {
   "cell_type": "code",
   "execution_count": "",
   "metadata": {
    "collapsed": false
   },
   "outputs": [],
   "source": []
  },
  {
   "cell_type": "markdown",
   "metadata": {},
   "source": [
    "<a href=\"#ex5answer\">Kunci Jawaban Latihan 5</a>"
   ]
  },
  {
   "cell_type": "markdown",
   "metadata": {},
   "source": [
    "###Penggunaan fungsi sebagai argumen dari fungsi yang lain\n",
    "\n",
    "Sejauh ini, kita sudah menggunakan nilai-nilai tunggal ataupun array sebagai argumen input dari tiap fungsi. Namun, kita juga dapat menggunakan sebuah fungsi sebagai salah satu argumen input dari fungsi yang lain. Tinjaulah, sebagai contoh, sebuah fungsi yang disebut `takesquare`, yang dapat mengambil dua argumen input: fungsi `finput` dan nilai `x`, dan fungsi tersebut mengembalikan fungsi `finput` terevaluasi pada posisi `x` dan kemudian dikuadratkan."
   ]
  },
  {
   "cell_type": "code",
   "execution_count": "",
   "metadata": {
    "collapsed": false
   },
   "outputs": [],
   "source": [
    "def takesquare(finput,x):\n",
    "    return finput(x)**2"
   ]
  },
  {
   "cell_type": "markdown",
   "metadata": {},
   "source": [
    "Sekarang kita dapat memanggil fungsi `takesquare` dengan fungsi apapun $f$ yang dapat disebut sebagai $f(x)$ dan mengembalikan sebuah nilai. Sebagai contoh, kita dapat memanggilnya dengan fungsi cosinus, dan kita dapat mengujinya langsung apakah kita mendapatkan hasil yang benar."
   ]
  },
  {
   "cell_type": "code",
   "execution_count": "",
   "metadata": {
    "collapsed": false
   },
   "outputs": [],
   "source": [
    "print('hasil takesquare:',takesquare(np.cos,2))\n",
    "print('nilai yang benar adalah: ',np.cos(2)**2)"
   ]
  },
  {
   "cell_type": "markdown",
   "metadata": {},
   "source": [
    "###Menemukan nilai nol dalam fungsi\n",
    "\n",
    "Menemukan nilai nol dalam sebuah fungsi adalah tugas yang umum dilakukan dalam komputasi eksplorasi. Menemukan nol juga mengacu pada *penemuan akar/dasar*. Terdapat berbagai macam metode untuk menemukan nol dalam sebuah fungsi, dari yang terpercaya tetapi lambat (metode tersebut selalu menemukan angka nol tetapi membutuhkan beberapa evaluasi fungsi sekaligus) sampai dengan metode yang cepat tetapi kurang terpercaya (dapat menemukan nol dengan sangat cepat, tapi tidak selalu dapat menemukannya). Di sini kita akan menggunakan metode kedua.\n",
    "\n",
    "Tinjaulah fungsi $f(x)=0.5-\\text{e}^{-x}$. Fungsi ini akan menjadi nol saat $x=-\\ln(0.5)$, tetapi marilah berpura-pura tidak mengetahui dan cobalah untuk menemukannya dengan menggunakan metode penemuan akar/dasar. Pertama, kita perlu menuliskan fungsi Python untuk $f(x)$."
   ]
  },
  {
   "cell_type": "code",
   "execution_count": "",
   "metadata": {
    "collapsed": false
   },
   "outputs": [],
   "source": [
    "def f(x):\n",
    "    return 0.5 - np.exp(-x)"
   ]
  },
  {
   "cell_type": "markdown",
   "metadata": {},
   "source": [
    "Kita akan menggunakan metode `fsolve` untuk menemukan nilai nol dari sebuah fungsi. `fsolve` adalah bagian dari paket `scipy.optimize`. `fsolve` mengambil dua argumen: fungsi yang kita ingin untuk mendapatkan nilai nolnya, dan nilai awal pencarian (tidaklah mengejutkan kalau semakin dekat nilai awal dengan akar/dasarnya, semakin tinggi kemungkinan `fsolve` untuk menemukan nol)."
   ]
  },
  {
   "cell_type": "code",
   "execution_count": "",
   "metadata": {
    "collapsed": false
   },
   "outputs": [],
   "source": [
    "from scipy.optimize import fsolve\n",
    "xzero = fsolve(f,1)\n",
    "print('hasil fsolve:',xzero)\n",
    "print('nilai sebenarnya:     ',-np.log(0.5))\n",
    "print('f(x) saat xzero:   ',f(xzero))"
   ]
  },
  {
   "cell_type": "markdown",
   "metadata": {},
   "source": [
    "Sekarang bagaimana jika Anda ingin menemukan nilai $x$ di mana $f(x)=0.3$? (Saya tahu, itu adalah $-\\ln(0.2)$). Kita dapat, tentu saja, membuat fungsi baru $f_2=f(x)-0.3$ lalu mencoba menemukan nol dari $f_2$. Namun, jika kita melakukan itu, kita dapat membuatnya semakin umum. Marilah kita mencoba menemukan $f(x)=a$, sehingga kita dapat membuat fungsi $f_2=f(x)-a$."
   ]
  },
  {
   "cell_type": "code",
   "execution_count": "",
   "metadata": {
    "collapsed": false
   },
   "outputs": [],
   "source": [
    "def f2(x,a=0):\n",
    "    return f(x)-a"
   ]
  },
  {
   "cell_type": "markdown",
   "metadata": {},
   "source": [
    "Saat kita menggunakan `fsolve` untuk menemukan nol dari fungsi `f2`, kita perlu meneruskan argumen tambahan: nilai `a`. Proses ini dapat dilakukan dengan menggunakan argumen kata kunci `args`, yang merupakan sebuah tupel dari argumen tambahan yang telah diteruskan untuk fungsi tersebut, di mana `fsolve` mencoba menemukan sebuah akar/dasarnya. `args` dapat berupa nilai-nilai majemuk, sejauh nilai-nilai tersebut dipisahkan oleh tanda koma."
   ]
  },
  {
   "cell_type": "code",
   "execution_count": "",
   "metadata": {
    "collapsed": false
   },
   "outputs": [],
   "source": [
    "xzero = fsolve(f2,1,args=(0.3))\n",
    "print('hasil fsolve:',xzero)\n",
    "print('nilai sebenarnya:  ',-np.log(0.2))\n",
    "print('f(xzero):     ',f(xzero))"
   ]
  },
  {
   "cell_type": "markdown",
   "metadata": {},
   "source": [
    "###Latihan <a name=\"back6\"></a>6\n",
    "\n",
    "Distribusi kepadatan kumulatif $F(x)$ dari distribusi normal dinyatakan sebagai:\n",
    "\n",
    "$F(x)=\\frac{1}{2}\\left[ 1 + \\text{erf}\\left(\\frac{x-\\mu}{\\sqrt{2\\sigma^2}}\\right)\\right] $\n",
    "\n",
    "di mana $\\mu$ adalah nilai rata-rata, $\\sigma$ adalah standar deviasi, dan erf adalah fungsi *error*.\n",
    "Ingatlah kembali definisi dari distribusi kepadatan kumulatif: ketika suatu variabel acak memiliki distribusi normal dengan nilai rata-rata $\\mu$ dan standar deviasi $\\sigma$, $F(x)$ adalah kemungkinan bahwa variabel acak tersebut bernilai kurang dari $x$. Tuliskanlah sebuah fungsi Python untuk $F(x)$. Argumen input pertama harus bernilai  $x$, diikuti dengan beberapa argumen kata kunci untuk $\\mu$ dan $\\sigma$. Fungsi *error* dapat diimpor sebagai:\n",
    "\n",
    "`from scipy.special import erf`\n",
    "\n",
    "Ujilah fungsi Anda, sebagai contoh untuk mengecek bahwa saat $x=\\mu$, $F$ harus mengembalikan nilai 0.5, dan saat $x=\\mu+1.96\\sigma$,  $F$ harus mengembalikan nilai 0.975 (ingatkah materi ini dari kelas statistik Anda dahulu?)\n",
    "\n",
    "Selanjutnya, temukan nilai $x$ dari $F(x)=p$, di mana $p$ adalah kemungkinan kecenderungan (jadi nilainya di antara 0 dan 1).\n",
    "Cek jawaban Anda untuk $\\mu=3$, $\\sigma=2$, dan temukan $x$ untuk $p=0.1$ dan $p=0.9$. Substitusikan kembali akar/dasar yang Anda sudah tentukan melalui `fsolve` ke dalam $F(x)$ untuk memastikan kode Anda berjalan dengan semestinya."
   ]
  },
  {
   "cell_type": "code",
   "execution_count": "",
   "metadata": {
    "collapsed": false
   },
   "outputs": [],
   "source": []
  },
  {
   "cell_type": "markdown",
   "metadata": {},
   "source": [
    "<a href=\"#ex6answer\">Kunci Jawaban Latihan 6</a>"
   ]
  },
  {
   "cell_type": "markdown",
   "metadata": {},
   "source": [
    "###Kunci Jawaban Latihan-latihan"
   ]
  },
  {
   "cell_type": "markdown",
   "metadata": {},
   "source": [
    "<a name=\"ex1answer\">Kunci Jawaban Latihan 1</a>"
   ]
  },
  {
   "cell_type": "code",
   "execution_count": "",
   "metadata": {
    "collapsed": false
   },
   "outputs": [],
   "source": [
    "def test(x,alpha):\n",
    "    return np.exp(-alpha*x) * np.cos(x)\n",
    "x = np.linspace(0,10*np.pi,100)\n",
    "y1 = test(x,0.1)  # Fungsi ini dapat dipanggil melalui array\n",
    "y2 = test(x,0.2)\n",
    "plt.plot(x,y1,'b',label=r'$\\alpha$=0.1') # jika Anda menetapkan sebuah label, label tersebut akan otomatis digunakan dalam Legenda\n",
    "plt.plot(x,y2,'r',label=r'$\\alpha$=0.2')\n",
    "plt.xlabel('x')\n",
    "plt.ylabel('f(x)')\n",
    "plt.legend()"
   ]
  },
  {
   "cell_type": "markdown",
   "metadata": {},
   "source": [
    " <a href=\"#back1\">Kembali ke Latihan 1</a>\n",
    "\n",
    "<a name=\"ex2answer\">Kunci Jawaban Latihan 2</a>"
   ]
  },
  {
   "cell_type": "code",
   "execution_count": "",
   "metadata": {
    "collapsed": false
   },
   "outputs": [],
   "source": [
    "def psi(x, y, U=1.0, R=1.0):\n",
    "    r = np.sqrt( x**2 + y**2 )\n",
    "    if r < R:\n",
    "        rv = 0.0\n",
    "    else:\n",
    "        theta = np.arctan2(y,x)\n",
    "        rv = U * (r - R**2 / r) * np.sin(theta)\n",
    "    return rv\n",
    "\n",
    "print(psi(2, 4, U=1.0, R=1.0))\n",
    "print(psi(0.5, 0, U=1.0, R=1.0))"
   ]
  },
  {
   "cell_type": "markdown",
   "metadata": {},
   "source": [
    "<a href=\"#back2\">Kembali ke Latihan 2</a>\n",
    "\n",
    "<a name=\"ex3answer\">Kunci Jawaban Latihan 3</a>"
   ]
  },
  {
   "cell_type": "code",
   "execution_count": "",
   "metadata": {
    "collapsed": false
   },
   "outputs": [],
   "source": [
    "x,y = np.meshgrid( np.linspace(-3,3,100), np.linspace(-2,2,100) )\n",
    "psivec = np.vectorize(psi)\n",
    "p = psivec(x,y,R=1.0,U=1.0)\n",
    "plt.contour( x, y, p, 50 )\n",
    "alpha = np.linspace(0,2*np.pi,100)\n",
    "plt.fill(np.cos(alpha),np.sin(alpha),ec='g',fc='g')\n",
    "plt.axis('equal')"
   ]
  },
  {
   "cell_type": "markdown",
   "metadata": {},
   "source": [
    " <a href=\"#back3\">Kembali ke Latihan 3</a>\n",
    "\n",
    "<a name=\"ex4answer\">Kunci Jawaban Latihan 4</a>"
   ]
  },
  {
   "cell_type": "code",
   "execution_count": "",
   "metadata": {
    "collapsed": false
   },
   "outputs": [],
   "source": [
    "def velocity(x,y,U=1.0,R=1.0):\n",
    "    r = np.sqrt(x**2+y**2)\n",
    "    theta = np.arctan2(y,x)\n",
    "    if r > R:\n",
    "        vr =  U * (1-R**2/r**2) * np.cos(theta)\n",
    "        vt = -U * (1+R**2/r**2) * np.sin(theta)\n",
    "        vx = vr * np.cos(theta) - vt * np.sin(theta)\n",
    "        vy = vr * np.sin(theta) + vt * np.cos(theta)\n",
    "    else:\n",
    "        vx,vy = 0.0,0.0\n",
    "    return vx,vy\n",
    "print('kecepatan pada (2,3): ',velocity(2,3))\n",
    "x,y = np.meshgrid(np.linspace(-3,3,50),np.linspace(-2,2,50))\n",
    "vx,vy = np.zeros((50,50)), np.zeros((50,50))\n",
    "for i in range(50):\n",
    "    for j in range(50):\n",
    "        vx[i,j],vy[i,j] = velocity(x[i,j],y[i,j])\n",
    "alpha = np.linspace(0,2*np.pi,100)\n",
    "plt.fill(np.cos(alpha),np.sin(alpha),ec='g',fc='g')\n",
    "plt.streamplot(x,y,vx,vy)\n",
    "plt.axis('equal')\n",
    "plt.xlim(-3,3)\n",
    "plt.ylim(-2,2)"
   ]
  },
  {
   "cell_type": "markdown",
   "metadata": {},
   "source": [
    " <a href=\"#back4\">Kembali ke Latihan 4</a>\n",
    "\n",
    "<a name=\"ex5answer\">Kunci Jawaban Latihan 5</a>"
   ]
  },
  {
   "cell_type": "code",
   "execution_count": "",
   "metadata": {
    "collapsed": false
   },
   "outputs": [],
   "source": [
    "def dfuncdx(x):\n",
    "    if x < 0:\n",
    "        rv = -np.sin(x)\n",
    "    else:\n",
    "        rv = -np.exp(-x)\n",
    "    return rv\n",
    "d = 1e-6\n",
    "x = -1\n",
    "dfdx = (func(x+d) - func(x-d)) / (2*d)\n",
    "print('Nilai sebenarnya   ',dfuncdx(x))\n",
    "print('Nilai perkiraan ',dfdx)\n",
    "x = 1\n",
    "dfdx = (func(x+d) - func(x-d)) / (2*d)\n",
    "print('Nilai sebenarnya   ',dfuncdx(x))\n",
    "print('Nilai perkiraan ',dfdx)"
   ]
  },
  {
   "cell_type": "markdown",
   "metadata": {},
   "source": [
    " <a href=\"#back5\">Kembali ke Latihan 5</a>\n",
    "\n",
    "<a name=\"ex6answer\">Kunci Jawaban Latihan 6</a>"
   ]
  },
  {
   "cell_type": "code",
   "execution_count": "",
   "metadata": {
    "collapsed": false
   },
   "outputs": [],
   "source": [
    "from scipy.special import erf\n",
    "def F(x,mu=0,sigma=1,p=0):\n",
    "    rv = 0.5 * (1.0 + erf( (x-mu) / np.sqrt(2*sigma**2) ) )\n",
    "    return rv - p\n",
    "print('x=mu menghasilkan F(x)=',F(2,mu=2,sigma=1))\n",
    "print('x=mu+1.96sig menghasilkan: ',F(2+1.96,mu=2,sigma=1))\n",
    "x1 = fsolve(F,3,args=(3,2,0.1))\n",
    "x2 = fsolve(F,3,args=(3,2,0.9))\n",
    "print('x1,F(x1):',x1,F(x1,mu=3,sigma=2))\n",
    "print('x2,F(x2):',x2,F(x2,mu=3,sigma=2))"
   ]
  },
  {
   "cell_type": "markdown",
   "metadata": {},
   "source": [
    "<a href=\"#back6\">Kembali ke Latihan 6</a>"
   ]
  }
 ],
 "metadata": {
  "anaconda-cloud": {},
  "kernelspec": {
   "display_name": "Python [Root]",
   "language": "python",
   "name": "Python [Root]"
  },
  "language_info": {
   "codemirror_mode": {
    "name": "ipython",
    "version": 3
   },
   "file_extension": ".py",
   "mimetype": "text/x-python",
   "name": "python",
   "nbconvert_exporter": "python",
   "pygments_lexer": "ipython3",
   "version": "3.5.2"
  }
 },
 "nbformat": 4,
 "nbformat_minor": 0
}
